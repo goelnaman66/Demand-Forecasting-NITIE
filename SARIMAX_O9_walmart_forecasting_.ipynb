{
  "nbformat": 4,
  "nbformat_minor": 0,
  "metadata": {
    "colab": {
      "name": "SARIMAX O9_walmart_forecasting.ipynb",
      "provenance": [],
      "collapsed_sections": []
    },
    "kernelspec": {
      "name": "python3",
      "display_name": "Python 3"
    },
    "language_info": {
      "name": "python"
    }
  },
  "cells": [
    {
      "cell_type": "markdown",
      "source": [
        "**SARIMAX** (Seasonal Auto-Regressive Integrated Moving Average with eXogenous factors): is an updated version of the ARIMA model.SARIMAX is a seasonal equivalent model like SARIMA and Auto ARIMA."
      ],
      "metadata": {
        "id": "rzypWTlEBdn8"
      }
    },
    {
      "cell_type": "markdown",
      "source": [
        "This Notebook tests SARIMAX for a single store. The result of the same is the demand for a particular store."
      ],
      "metadata": {
        "id": "Y-Q483tBX_6v"
      }
    },
    {
      "cell_type": "markdown",
      "source": [
        "To read more about Sarimax and ARIMA : [Click Here](https://medium.com/swlh/a-brief-introduction-to-arima-and-sarima-modeling-in-python-87a58d375def)"
      ],
      "metadata": {
        "id": "GNWkmDXy6n3g"
      }
    },
    {
      "cell_type": "code",
      "execution_count": 61,
      "metadata": {
        "id": "PhEa2JDb2cls"
      },
      "outputs": [],
      "source": [
        "# import the usual modules\n",
        "import numpy as np # linear algebra\n",
        "import pandas as pd # data processing, CSV file I/O (e.g. pd.read_csv)\n",
        "pd.set_option(\"display.max_rows\", 20)\n",
        "import seaborn as sns # data visualisation\n",
        "import matplotlib.pyplot as plt # plot\n",
        "import os\n",
        "import warnings\n",
        "#import funcs\n",
        "from datetime import datetime\n",
        "# from matplotlib.pyplot import cm\n",
        "import random\n",
        "from sklearn import metrics\n",
        "#importing neccesary libraries"
      ]
    },
    {
      "cell_type": "code",
      "source": [
        "#importing neccesary libraries\n",
        "pd.set_option(\"display.max.columns\",None)\n",
        "pd.set_option(\"display.max.rows\",None)\n",
        "from IPython.core.interactiveshell import InteractiveShell\n",
        "InteractiveShell.ast_node_interactivity = \"all\"\n",
        "from pandas.plotting import register_matplotlib_converters\n",
        "register_matplotlib_converters()\n",
        "\n",
        "%matplotlib inline\n",
        "from sklearn.metrics import mean_absolute_error as MAE\n",
        "from scipy.stats import skew\n",
        "\n"
      ],
      "metadata": {
        "id": "T-ZSIogfQvgn"
      },
      "execution_count": 62,
      "outputs": []
    },
    {
      "cell_type": "markdown",
      "source": [
        "Instruction : If running on Google colab, place the dataset in your drive. The below given cells simply extracts the data from there."
      ],
      "metadata": {
        "id": "XF731gC9Vq_S"
      }
    },
    {
      "cell_type": "code",
      "source": [
        "from google.colab import drive\n",
        "drive.mount('/content/drive') #connects colab with your drive to extract data from there"
      ],
      "metadata": {
        "colab": {
          "base_uri": "https://localhost:8080/"
        },
        "id": "rPLPL5nB3uqt",
        "outputId": "ffdef739-0b03-4278-84f9-cb6b5dcfab69"
      },
      "execution_count": 63,
      "outputs": [
        {
          "output_type": "stream",
          "name": "stdout",
          "text": [
            "Drive already mounted at /content/drive; to attempt to forcibly remount, call drive.mount(\"/content/drive\", force_remount=True).\n"
          ]
        }
      ]
    },
    {
      "cell_type": "code",
      "source": [
        "train = pd.read_csv(\"/content/drive/MyDrive/walmart/train[1].csv\") # saving data into dataframe\n",
        "features = pd.read_csv('/content/drive/MyDrive/walmart/features[1].csv') # saving data into dataframe\n",
        "sample = pd.read_csv('/content/drive/MyDrive/walmart/sampleSubmission.csv') # saving data into dataframe\n",
        "stores  = pd.read_csv('/content/drive/MyDrive/walmart/stores[1].csv') # saving data into dataframe\n",
        "test = pd.read_csv('/content/drive/MyDrive/walmart/test[1].csv') # saving data into dataframe"
      ],
      "metadata": {
        "id": "RVljgzoN2mzg"
      },
      "execution_count": 64,
      "outputs": []
    },
    {
      "cell_type": "code",
      "source": [
        "#merging different datasets \n",
        "store_features = stores.merge(features,on = 'Store',how = 'inner')\n",
        "store_data = train.merge(store_features,on = ['Store','Date'],how = 'right')\n",
        "dataset = store_data.drop(columns = ['Temperature','Fuel_Price', 'MarkDown1', 'MarkDown2', 'MarkDown3', 'MarkDown4',\n",
        "       'MarkDown5','Unemployment'],axis = 1)"
      ],
      "metadata": {
        "id": "zDKwg1QQRdb5"
      },
      "execution_count": 65,
      "outputs": []
    },
    {
      "cell_type": "code",
      "source": [
        "dataset.head()"
      ],
      "metadata": {
        "colab": {
          "base_uri": "https://localhost:8080/",
          "height": 206
        },
        "id": "wZjUtdMzRmLH",
        "outputId": "afff0bb2-6693-4aeb-de8f-78d67c696419"
      },
      "execution_count": 66,
      "outputs": [
        {
          "output_type": "execute_result",
          "data": {
            "text/html": [
              "\n",
              "  <div id=\"df-cf79b6d1-b46c-4a9c-b942-f8fa378c5d27\">\n",
              "    <div class=\"colab-df-container\">\n",
              "      <div>\n",
              "<style scoped>\n",
              "    .dataframe tbody tr th:only-of-type {\n",
              "        vertical-align: middle;\n",
              "    }\n",
              "\n",
              "    .dataframe tbody tr th {\n",
              "        vertical-align: top;\n",
              "    }\n",
              "\n",
              "    .dataframe thead th {\n",
              "        text-align: right;\n",
              "    }\n",
              "</style>\n",
              "<table border=\"1\" class=\"dataframe\">\n",
              "  <thead>\n",
              "    <tr style=\"text-align: right;\">\n",
              "      <th></th>\n",
              "      <th>Store</th>\n",
              "      <th>Dept</th>\n",
              "      <th>Date</th>\n",
              "      <th>Weekly_Sales</th>\n",
              "      <th>IsHoliday_x</th>\n",
              "      <th>Type</th>\n",
              "      <th>Size</th>\n",
              "      <th>CPI</th>\n",
              "      <th>IsHoliday_y</th>\n",
              "    </tr>\n",
              "  </thead>\n",
              "  <tbody>\n",
              "    <tr>\n",
              "      <th>0</th>\n",
              "      <td>1</td>\n",
              "      <td>1.0</td>\n",
              "      <td>2010-02-05</td>\n",
              "      <td>24924.50</td>\n",
              "      <td>False</td>\n",
              "      <td>A</td>\n",
              "      <td>151315</td>\n",
              "      <td>211.096358</td>\n",
              "      <td>False</td>\n",
              "    </tr>\n",
              "    <tr>\n",
              "      <th>1</th>\n",
              "      <td>1</td>\n",
              "      <td>2.0</td>\n",
              "      <td>2010-02-05</td>\n",
              "      <td>50605.27</td>\n",
              "      <td>False</td>\n",
              "      <td>A</td>\n",
              "      <td>151315</td>\n",
              "      <td>211.096358</td>\n",
              "      <td>False</td>\n",
              "    </tr>\n",
              "    <tr>\n",
              "      <th>2</th>\n",
              "      <td>1</td>\n",
              "      <td>3.0</td>\n",
              "      <td>2010-02-05</td>\n",
              "      <td>13740.12</td>\n",
              "      <td>False</td>\n",
              "      <td>A</td>\n",
              "      <td>151315</td>\n",
              "      <td>211.096358</td>\n",
              "      <td>False</td>\n",
              "    </tr>\n",
              "    <tr>\n",
              "      <th>3</th>\n",
              "      <td>1</td>\n",
              "      <td>4.0</td>\n",
              "      <td>2010-02-05</td>\n",
              "      <td>39954.04</td>\n",
              "      <td>False</td>\n",
              "      <td>A</td>\n",
              "      <td>151315</td>\n",
              "      <td>211.096358</td>\n",
              "      <td>False</td>\n",
              "    </tr>\n",
              "    <tr>\n",
              "      <th>4</th>\n",
              "      <td>1</td>\n",
              "      <td>5.0</td>\n",
              "      <td>2010-02-05</td>\n",
              "      <td>32229.38</td>\n",
              "      <td>False</td>\n",
              "      <td>A</td>\n",
              "      <td>151315</td>\n",
              "      <td>211.096358</td>\n",
              "      <td>False</td>\n",
              "    </tr>\n",
              "  </tbody>\n",
              "</table>\n",
              "</div>\n",
              "      <button class=\"colab-df-convert\" onclick=\"convertToInteractive('df-cf79b6d1-b46c-4a9c-b942-f8fa378c5d27')\"\n",
              "              title=\"Convert this dataframe to an interactive table.\"\n",
              "              style=\"display:none;\">\n",
              "        \n",
              "  <svg xmlns=\"http://www.w3.org/2000/svg\" height=\"24px\"viewBox=\"0 0 24 24\"\n",
              "       width=\"24px\">\n",
              "    <path d=\"M0 0h24v24H0V0z\" fill=\"none\"/>\n",
              "    <path d=\"M18.56 5.44l.94 2.06.94-2.06 2.06-.94-2.06-.94-.94-2.06-.94 2.06-2.06.94zm-11 1L8.5 8.5l.94-2.06 2.06-.94-2.06-.94L8.5 2.5l-.94 2.06-2.06.94zm10 10l.94 2.06.94-2.06 2.06-.94-2.06-.94-.94-2.06-.94 2.06-2.06.94z\"/><path d=\"M17.41 7.96l-1.37-1.37c-.4-.4-.92-.59-1.43-.59-.52 0-1.04.2-1.43.59L10.3 9.45l-7.72 7.72c-.78.78-.78 2.05 0 2.83L4 21.41c.39.39.9.59 1.41.59.51 0 1.02-.2 1.41-.59l7.78-7.78 2.81-2.81c.8-.78.8-2.07 0-2.86zM5.41 20L4 18.59l7.72-7.72 1.47 1.35L5.41 20z\"/>\n",
              "  </svg>\n",
              "      </button>\n",
              "      \n",
              "  <style>\n",
              "    .colab-df-container {\n",
              "      display:flex;\n",
              "      flex-wrap:wrap;\n",
              "      gap: 12px;\n",
              "    }\n",
              "\n",
              "    .colab-df-convert {\n",
              "      background-color: #E8F0FE;\n",
              "      border: none;\n",
              "      border-radius: 50%;\n",
              "      cursor: pointer;\n",
              "      display: none;\n",
              "      fill: #1967D2;\n",
              "      height: 32px;\n",
              "      padding: 0 0 0 0;\n",
              "      width: 32px;\n",
              "    }\n",
              "\n",
              "    .colab-df-convert:hover {\n",
              "      background-color: #E2EBFA;\n",
              "      box-shadow: 0px 1px 2px rgba(60, 64, 67, 0.3), 0px 1px 3px 1px rgba(60, 64, 67, 0.15);\n",
              "      fill: #174EA6;\n",
              "    }\n",
              "\n",
              "    [theme=dark] .colab-df-convert {\n",
              "      background-color: #3B4455;\n",
              "      fill: #D2E3FC;\n",
              "    }\n",
              "\n",
              "    [theme=dark] .colab-df-convert:hover {\n",
              "      background-color: #434B5C;\n",
              "      box-shadow: 0px 1px 3px 1px rgba(0, 0, 0, 0.15);\n",
              "      filter: drop-shadow(0px 1px 2px rgba(0, 0, 0, 0.3));\n",
              "      fill: #FFFFFF;\n",
              "    }\n",
              "  </style>\n",
              "\n",
              "      <script>\n",
              "        const buttonEl =\n",
              "          document.querySelector('#df-cf79b6d1-b46c-4a9c-b942-f8fa378c5d27 button.colab-df-convert');\n",
              "        buttonEl.style.display =\n",
              "          google.colab.kernel.accessAllowed ? 'block' : 'none';\n",
              "\n",
              "        async function convertToInteractive(key) {\n",
              "          const element = document.querySelector('#df-cf79b6d1-b46c-4a9c-b942-f8fa378c5d27');\n",
              "          const dataTable =\n",
              "            await google.colab.kernel.invokeFunction('convertToInteractive',\n",
              "                                                     [key], {});\n",
              "          if (!dataTable) return;\n",
              "\n",
              "          const docLinkHtml = 'Like what you see? Visit the ' +\n",
              "            '<a target=\"_blank\" href=https://colab.research.google.com/notebooks/data_table.ipynb>data table notebook</a>'\n",
              "            + ' to learn more about interactive tables.';\n",
              "          element.innerHTML = '';\n",
              "          dataTable['output_type'] = 'display_data';\n",
              "          await google.colab.output.renderOutput(dataTable, element);\n",
              "          const docLink = document.createElement('div');\n",
              "          docLink.innerHTML = docLinkHtml;\n",
              "          element.appendChild(docLink);\n",
              "        }\n",
              "      </script>\n",
              "    </div>\n",
              "  </div>\n",
              "  "
            ],
            "text/plain": [
              "   Store  Dept        Date  Weekly_Sales IsHoliday_x Type    Size         CPI  \\\n",
              "0      1   1.0  2010-02-05      24924.50       False    A  151315  211.096358   \n",
              "1      1   2.0  2010-02-05      50605.27       False    A  151315  211.096358   \n",
              "2      1   3.0  2010-02-05      13740.12       False    A  151315  211.096358   \n",
              "3      1   4.0  2010-02-05      39954.04       False    A  151315  211.096358   \n",
              "4      1   5.0  2010-02-05      32229.38       False    A  151315  211.096358   \n",
              "\n",
              "   IsHoliday_y  \n",
              "0        False  \n",
              "1        False  \n",
              "2        False  \n",
              "3        False  \n",
              "4        False  "
            ]
          },
          "metadata": {},
          "execution_count": 66
        }
      ]
    },
    {
      "cell_type": "code",
      "source": [
        "dataset_for_prediction=dataset.dropna() #droping null values"
      ],
      "metadata": {
        "id": "Weum8YStRpvy"
      },
      "execution_count": 67,
      "outputs": []
    },
    {
      "cell_type": "code",
      "source": [
        "dataset_grouped = dataset_for_prediction.groupby(['Date','Store','Dept','CPI','Type'])['Weekly_Sales'].sum().reset_index() #grouping the data"
      ],
      "metadata": {
        "id": "Sr-r30GyRru4"
      },
      "execution_count": 68,
      "outputs": []
    },
    {
      "cell_type": "code",
      "source": [
        "Store1 = dataset_grouped[dataset_grouped.Store.isin([1])] #extracting_data_for_store_1"
      ],
      "metadata": {
        "id": "mAEaQfzHRt4y"
      },
      "execution_count": 69,
      "outputs": []
    },
    {
      "cell_type": "code",
      "source": [
        "Store1.head()\n"
      ],
      "metadata": {
        "colab": {
          "base_uri": "https://localhost:8080/",
          "height": 206
        },
        "id": "_Y4Y8NfuRwBp",
        "outputId": "4d1f13a4-49bf-495d-b85e-485107d1ce56"
      },
      "execution_count": 70,
      "outputs": [
        {
          "output_type": "execute_result",
          "data": {
            "text/html": [
              "\n",
              "  <div id=\"df-985c3017-09c6-4761-8ea2-fbd4d652b413\">\n",
              "    <div class=\"colab-df-container\">\n",
              "      <div>\n",
              "<style scoped>\n",
              "    .dataframe tbody tr th:only-of-type {\n",
              "        vertical-align: middle;\n",
              "    }\n",
              "\n",
              "    .dataframe tbody tr th {\n",
              "        vertical-align: top;\n",
              "    }\n",
              "\n",
              "    .dataframe thead th {\n",
              "        text-align: right;\n",
              "    }\n",
              "</style>\n",
              "<table border=\"1\" class=\"dataframe\">\n",
              "  <thead>\n",
              "    <tr style=\"text-align: right;\">\n",
              "      <th></th>\n",
              "      <th>Date</th>\n",
              "      <th>Store</th>\n",
              "      <th>Dept</th>\n",
              "      <th>CPI</th>\n",
              "      <th>Type</th>\n",
              "      <th>Weekly_Sales</th>\n",
              "    </tr>\n",
              "  </thead>\n",
              "  <tbody>\n",
              "    <tr>\n",
              "      <th>0</th>\n",
              "      <td>2010-02-05</td>\n",
              "      <td>1</td>\n",
              "      <td>1.0</td>\n",
              "      <td>211.096358</td>\n",
              "      <td>A</td>\n",
              "      <td>24924.50</td>\n",
              "    </tr>\n",
              "    <tr>\n",
              "      <th>1</th>\n",
              "      <td>2010-02-05</td>\n",
              "      <td>1</td>\n",
              "      <td>2.0</td>\n",
              "      <td>211.096358</td>\n",
              "      <td>A</td>\n",
              "      <td>50605.27</td>\n",
              "    </tr>\n",
              "    <tr>\n",
              "      <th>2</th>\n",
              "      <td>2010-02-05</td>\n",
              "      <td>1</td>\n",
              "      <td>3.0</td>\n",
              "      <td>211.096358</td>\n",
              "      <td>A</td>\n",
              "      <td>13740.12</td>\n",
              "    </tr>\n",
              "    <tr>\n",
              "      <th>3</th>\n",
              "      <td>2010-02-05</td>\n",
              "      <td>1</td>\n",
              "      <td>4.0</td>\n",
              "      <td>211.096358</td>\n",
              "      <td>A</td>\n",
              "      <td>39954.04</td>\n",
              "    </tr>\n",
              "    <tr>\n",
              "      <th>4</th>\n",
              "      <td>2010-02-05</td>\n",
              "      <td>1</td>\n",
              "      <td>5.0</td>\n",
              "      <td>211.096358</td>\n",
              "      <td>A</td>\n",
              "      <td>32229.38</td>\n",
              "    </tr>\n",
              "  </tbody>\n",
              "</table>\n",
              "</div>\n",
              "      <button class=\"colab-df-convert\" onclick=\"convertToInteractive('df-985c3017-09c6-4761-8ea2-fbd4d652b413')\"\n",
              "              title=\"Convert this dataframe to an interactive table.\"\n",
              "              style=\"display:none;\">\n",
              "        \n",
              "  <svg xmlns=\"http://www.w3.org/2000/svg\" height=\"24px\"viewBox=\"0 0 24 24\"\n",
              "       width=\"24px\">\n",
              "    <path d=\"M0 0h24v24H0V0z\" fill=\"none\"/>\n",
              "    <path d=\"M18.56 5.44l.94 2.06.94-2.06 2.06-.94-2.06-.94-.94-2.06-.94 2.06-2.06.94zm-11 1L8.5 8.5l.94-2.06 2.06-.94-2.06-.94L8.5 2.5l-.94 2.06-2.06.94zm10 10l.94 2.06.94-2.06 2.06-.94-2.06-.94-.94-2.06-.94 2.06-2.06.94z\"/><path d=\"M17.41 7.96l-1.37-1.37c-.4-.4-.92-.59-1.43-.59-.52 0-1.04.2-1.43.59L10.3 9.45l-7.72 7.72c-.78.78-.78 2.05 0 2.83L4 21.41c.39.39.9.59 1.41.59.51 0 1.02-.2 1.41-.59l7.78-7.78 2.81-2.81c.8-.78.8-2.07 0-2.86zM5.41 20L4 18.59l7.72-7.72 1.47 1.35L5.41 20z\"/>\n",
              "  </svg>\n",
              "      </button>\n",
              "      \n",
              "  <style>\n",
              "    .colab-df-container {\n",
              "      display:flex;\n",
              "      flex-wrap:wrap;\n",
              "      gap: 12px;\n",
              "    }\n",
              "\n",
              "    .colab-df-convert {\n",
              "      background-color: #E8F0FE;\n",
              "      border: none;\n",
              "      border-radius: 50%;\n",
              "      cursor: pointer;\n",
              "      display: none;\n",
              "      fill: #1967D2;\n",
              "      height: 32px;\n",
              "      padding: 0 0 0 0;\n",
              "      width: 32px;\n",
              "    }\n",
              "\n",
              "    .colab-df-convert:hover {\n",
              "      background-color: #E2EBFA;\n",
              "      box-shadow: 0px 1px 2px rgba(60, 64, 67, 0.3), 0px 1px 3px 1px rgba(60, 64, 67, 0.15);\n",
              "      fill: #174EA6;\n",
              "    }\n",
              "\n",
              "    [theme=dark] .colab-df-convert {\n",
              "      background-color: #3B4455;\n",
              "      fill: #D2E3FC;\n",
              "    }\n",
              "\n",
              "    [theme=dark] .colab-df-convert:hover {\n",
              "      background-color: #434B5C;\n",
              "      box-shadow: 0px 1px 3px 1px rgba(0, 0, 0, 0.15);\n",
              "      filter: drop-shadow(0px 1px 2px rgba(0, 0, 0, 0.3));\n",
              "      fill: #FFFFFF;\n",
              "    }\n",
              "  </style>\n",
              "\n",
              "      <script>\n",
              "        const buttonEl =\n",
              "          document.querySelector('#df-985c3017-09c6-4761-8ea2-fbd4d652b413 button.colab-df-convert');\n",
              "        buttonEl.style.display =\n",
              "          google.colab.kernel.accessAllowed ? 'block' : 'none';\n",
              "\n",
              "        async function convertToInteractive(key) {\n",
              "          const element = document.querySelector('#df-985c3017-09c6-4761-8ea2-fbd4d652b413');\n",
              "          const dataTable =\n",
              "            await google.colab.kernel.invokeFunction('convertToInteractive',\n",
              "                                                     [key], {});\n",
              "          if (!dataTable) return;\n",
              "\n",
              "          const docLinkHtml = 'Like what you see? Visit the ' +\n",
              "            '<a target=\"_blank\" href=https://colab.research.google.com/notebooks/data_table.ipynb>data table notebook</a>'\n",
              "            + ' to learn more about interactive tables.';\n",
              "          element.innerHTML = '';\n",
              "          dataTable['output_type'] = 'display_data';\n",
              "          await google.colab.output.renderOutput(dataTable, element);\n",
              "          const docLink = document.createElement('div');\n",
              "          docLink.innerHTML = docLinkHtml;\n",
              "          element.appendChild(docLink);\n",
              "        }\n",
              "      </script>\n",
              "    </div>\n",
              "  </div>\n",
              "  "
            ],
            "text/plain": [
              "         Date  Store  Dept         CPI Type  Weekly_Sales\n",
              "0  2010-02-05      1   1.0  211.096358    A      24924.50\n",
              "1  2010-02-05      1   2.0  211.096358    A      50605.27\n",
              "2  2010-02-05      1   3.0  211.096358    A      13740.12\n",
              "3  2010-02-05      1   4.0  211.096358    A      39954.04\n",
              "4  2010-02-05      1   5.0  211.096358    A      32229.38"
            ]
          },
          "metadata": {},
          "execution_count": 70
        }
      ]
    },
    {
      "cell_type": "code",
      "source": [
        "steps=0\n",
        "dataset_for_prediction1= Store1.copy()\n",
        "# dataset_for_prediction1['Actual_sales']=dataset_for_prediction1['Weekly_Sales'].shift(steps)\n",
        "dataset_for_prediction1.head(3)"
      ],
      "metadata": {
        "colab": {
          "base_uri": "https://localhost:8080/",
          "height": 143
        },
        "id": "dFZ8Y91qRxTn",
        "outputId": "5c4b7a4a-13e0-4c23-9681-a74f5ba45936"
      },
      "execution_count": 71,
      "outputs": [
        {
          "output_type": "execute_result",
          "data": {
            "text/html": [
              "\n",
              "  <div id=\"df-75580234-e623-475e-a48f-1c0fc87e8af2\">\n",
              "    <div class=\"colab-df-container\">\n",
              "      <div>\n",
              "<style scoped>\n",
              "    .dataframe tbody tr th:only-of-type {\n",
              "        vertical-align: middle;\n",
              "    }\n",
              "\n",
              "    .dataframe tbody tr th {\n",
              "        vertical-align: top;\n",
              "    }\n",
              "\n",
              "    .dataframe thead th {\n",
              "        text-align: right;\n",
              "    }\n",
              "</style>\n",
              "<table border=\"1\" class=\"dataframe\">\n",
              "  <thead>\n",
              "    <tr style=\"text-align: right;\">\n",
              "      <th></th>\n",
              "      <th>Date</th>\n",
              "      <th>Store</th>\n",
              "      <th>Dept</th>\n",
              "      <th>CPI</th>\n",
              "      <th>Type</th>\n",
              "      <th>Weekly_Sales</th>\n",
              "    </tr>\n",
              "  </thead>\n",
              "  <tbody>\n",
              "    <tr>\n",
              "      <th>0</th>\n",
              "      <td>2010-02-05</td>\n",
              "      <td>1</td>\n",
              "      <td>1.0</td>\n",
              "      <td>211.096358</td>\n",
              "      <td>A</td>\n",
              "      <td>24924.50</td>\n",
              "    </tr>\n",
              "    <tr>\n",
              "      <th>1</th>\n",
              "      <td>2010-02-05</td>\n",
              "      <td>1</td>\n",
              "      <td>2.0</td>\n",
              "      <td>211.096358</td>\n",
              "      <td>A</td>\n",
              "      <td>50605.27</td>\n",
              "    </tr>\n",
              "    <tr>\n",
              "      <th>2</th>\n",
              "      <td>2010-02-05</td>\n",
              "      <td>1</td>\n",
              "      <td>3.0</td>\n",
              "      <td>211.096358</td>\n",
              "      <td>A</td>\n",
              "      <td>13740.12</td>\n",
              "    </tr>\n",
              "  </tbody>\n",
              "</table>\n",
              "</div>\n",
              "      <button class=\"colab-df-convert\" onclick=\"convertToInteractive('df-75580234-e623-475e-a48f-1c0fc87e8af2')\"\n",
              "              title=\"Convert this dataframe to an interactive table.\"\n",
              "              style=\"display:none;\">\n",
              "        \n",
              "  <svg xmlns=\"http://www.w3.org/2000/svg\" height=\"24px\"viewBox=\"0 0 24 24\"\n",
              "       width=\"24px\">\n",
              "    <path d=\"M0 0h24v24H0V0z\" fill=\"none\"/>\n",
              "    <path d=\"M18.56 5.44l.94 2.06.94-2.06 2.06-.94-2.06-.94-.94-2.06-.94 2.06-2.06.94zm-11 1L8.5 8.5l.94-2.06 2.06-.94-2.06-.94L8.5 2.5l-.94 2.06-2.06.94zm10 10l.94 2.06.94-2.06 2.06-.94-2.06-.94-.94-2.06-.94 2.06-2.06.94z\"/><path d=\"M17.41 7.96l-1.37-1.37c-.4-.4-.92-.59-1.43-.59-.52 0-1.04.2-1.43.59L10.3 9.45l-7.72 7.72c-.78.78-.78 2.05 0 2.83L4 21.41c.39.39.9.59 1.41.59.51 0 1.02-.2 1.41-.59l7.78-7.78 2.81-2.81c.8-.78.8-2.07 0-2.86zM5.41 20L4 18.59l7.72-7.72 1.47 1.35L5.41 20z\"/>\n",
              "  </svg>\n",
              "      </button>\n",
              "      \n",
              "  <style>\n",
              "    .colab-df-container {\n",
              "      display:flex;\n",
              "      flex-wrap:wrap;\n",
              "      gap: 12px;\n",
              "    }\n",
              "\n",
              "    .colab-df-convert {\n",
              "      background-color: #E8F0FE;\n",
              "      border: none;\n",
              "      border-radius: 50%;\n",
              "      cursor: pointer;\n",
              "      display: none;\n",
              "      fill: #1967D2;\n",
              "      height: 32px;\n",
              "      padding: 0 0 0 0;\n",
              "      width: 32px;\n",
              "    }\n",
              "\n",
              "    .colab-df-convert:hover {\n",
              "      background-color: #E2EBFA;\n",
              "      box-shadow: 0px 1px 2px rgba(60, 64, 67, 0.3), 0px 1px 3px 1px rgba(60, 64, 67, 0.15);\n",
              "      fill: #174EA6;\n",
              "    }\n",
              "\n",
              "    [theme=dark] .colab-df-convert {\n",
              "      background-color: #3B4455;\n",
              "      fill: #D2E3FC;\n",
              "    }\n",
              "\n",
              "    [theme=dark] .colab-df-convert:hover {\n",
              "      background-color: #434B5C;\n",
              "      box-shadow: 0px 1px 3px 1px rgba(0, 0, 0, 0.15);\n",
              "      filter: drop-shadow(0px 1px 2px rgba(0, 0, 0, 0.3));\n",
              "      fill: #FFFFFF;\n",
              "    }\n",
              "  </style>\n",
              "\n",
              "      <script>\n",
              "        const buttonEl =\n",
              "          document.querySelector('#df-75580234-e623-475e-a48f-1c0fc87e8af2 button.colab-df-convert');\n",
              "        buttonEl.style.display =\n",
              "          google.colab.kernel.accessAllowed ? 'block' : 'none';\n",
              "\n",
              "        async function convertToInteractive(key) {\n",
              "          const element = document.querySelector('#df-75580234-e623-475e-a48f-1c0fc87e8af2');\n",
              "          const dataTable =\n",
              "            await google.colab.kernel.invokeFunction('convertToInteractive',\n",
              "                                                     [key], {});\n",
              "          if (!dataTable) return;\n",
              "\n",
              "          const docLinkHtml = 'Like what you see? Visit the ' +\n",
              "            '<a target=\"_blank\" href=https://colab.research.google.com/notebooks/data_table.ipynb>data table notebook</a>'\n",
              "            + ' to learn more about interactive tables.';\n",
              "          element.innerHTML = '';\n",
              "          dataTable['output_type'] = 'display_data';\n",
              "          await google.colab.output.renderOutput(dataTable, element);\n",
              "          const docLink = document.createElement('div');\n",
              "          docLink.innerHTML = docLinkHtml;\n",
              "          element.appendChild(docLink);\n",
              "        }\n",
              "      </script>\n",
              "    </div>\n",
              "  </div>\n",
              "  "
            ],
            "text/plain": [
              "         Date  Store  Dept         CPI Type  Weekly_Sales\n",
              "0  2010-02-05      1   1.0  211.096358    A      24924.50\n",
              "1  2010-02-05      1   2.0  211.096358    A      50605.27\n",
              "2  2010-02-05      1   3.0  211.096358    A      13740.12"
            ]
          },
          "metadata": {},
          "execution_count": 71
        }
      ]
    },
    {
      "cell_type": "code",
      "source": [
        "dataset_grouped = dataset_for_prediction1.groupby(['Date','Store','CPI','Type'])['Weekly_Sales'].sum().reset_index() "
      ],
      "metadata": {
        "id": "R53WNUB6R1QP"
      },
      "execution_count": 72,
      "outputs": []
    },
    {
      "cell_type": "code",
      "source": [
        "dataset_for_prediction2=dataset_grouped.dropna() #dropping null values\n",
        "dataset_for_prediction2['Date'] =pd.to_datetime(dataset_for_prediction2['Date']) # converting data type to datetimens[]\n",
        "dataset_for_prediction2.index= dataset_for_prediction2['Date'] #setting it to index "
      ],
      "metadata": {
        "id": "sncLtyltR3XT"
      },
      "execution_count": 73,
      "outputs": []
    },
    {
      "cell_type": "code",
      "source": [
        "dataset_for_prediction2.Store.value_counts()\n",
        "Store1 = dataset_for_prediction2.copy()"
      ],
      "metadata": {
        "colab": {
          "base_uri": "https://localhost:8080/"
        },
        "id": "_MWodCCnR4YM",
        "outputId": "0983710b-572e-4ba2-c58c-0f222ef6cfec"
      },
      "execution_count": 74,
      "outputs": [
        {
          "output_type": "execute_result",
          "data": {
            "text/plain": [
              "1    143\n",
              "Name: Store, dtype: int64"
            ]
          },
          "metadata": {},
          "execution_count": 74
        }
      ]
    },
    {
      "cell_type": "code",
      "source": [
        "\n",
        "Store1 = dataset_grouped[(dataset_grouped.Store==1)] # taking out data for a single store in this example we take it for store type 1\n",
        "steps=-1\n",
        "dataset_for_prediction1= Store1.copy() \n",
        "dataset_for_prediction1['Actual_sales']=dataset_for_prediction1['Weekly_Sales'].shift(steps) #shiftting weekly sales by one row\n",
        "dataset_for_prediction1=dataset_for_prediction1.dropna() #dropping the null value created during shifting \n",
        "dataset_for_prediction1['Date'] =pd.to_datetime(dataset_for_prediction1['Date'])  # converting data type to datetimens[]\n",
        "dataset_for_prediction1.index= dataset_for_prediction1['Date']\n",
        "# dataset_for_prediction1.head()\n",
        "X = dataset_for_prediction1[['Store','CPI','Weekly_Sales']] # Taking out specific features for feature class\n",
        "y = dataset_for_prediction1[['Actual_sales']] # target class\n",
        "y.rename(columns={'Actual_sales':'Next_week_Sale'},inplace = True) #renaming actual sales \n",
        "train_size=int(len(Store1) *0.65)\n",
        "test_size = int(len(Store1)) - train_size\n",
        "train_X, train_y = X[:train_size].dropna(), y[:train_size].dropna()\n",
        "test_X, test_y = X[train_size:].dropna(), y[train_size:].dropna()"
      ],
      "metadata": {
        "colab": {
          "base_uri": "https://localhost:8080/"
        },
        "id": "tQfDYnNeSETR",
        "outputId": "f744f1c7-d20f-43ad-9097-54662c220205"
      },
      "execution_count": 75,
      "outputs": [
        {
          "output_type": "stream",
          "name": "stderr",
          "text": [
            "/usr/local/lib/python3.7/dist-packages/pandas/core/frame.py:5047: SettingWithCopyWarning: \n",
            "A value is trying to be set on a copy of a slice from a DataFrame\n",
            "\n",
            "See the caveats in the documentation: https://pandas.pydata.org/pandas-docs/stable/user_guide/indexing.html#returning-a-view-versus-a-copy\n",
            "  errors=errors,\n"
          ]
        }
      ]
    },
    {
      "cell_type": "markdown",
      "source": [
        "Seasonal decomposition using moving averages.\n",
        "\n"
      ],
      "metadata": {
        "id": "kxeeo4Wlnhuq"
      }
    },
    {
      "cell_type": "code",
      "source": [
        "import statsmodels.api as sm\n",
        "seas_d=sm.tsa.seasonal_decompose(X['Weekly_Sales'],model='add',freq=7); #( timeseries array, type of seasonality additive or multiplicative, extrapolate_trend)\n",
        "fig=seas_d.plot()\n",
        "fig.set_figheight(4)\n",
        "plt.show()"
      ],
      "metadata": {
        "colab": {
          "base_uri": "https://localhost:8080/",
          "height": 297
        },
        "id": "TTb8d6AVSQ8D",
        "outputId": "bf9a90cd-daf7-4e44-d498-8d4b52fb6433"
      },
      "execution_count": 76,
      "outputs": [
        {
          "output_type": "display_data",
          "data": {
            "image/png": "[encoded data removed]",
            "text/plain": [
              "<Figure size 432x288 with 4 Axes>"
            ]
          },
          "metadata": {
            "needs_background": "light"
          }
        }
      ]
    },
    {
      "cell_type": "markdown",
      "source": [
        "Adfuller test to reject or accept hypothesis based on P-Value"
      ],
      "metadata": {
        "id": "eCPVCys_njPg"
      }
    },
    {
      "cell_type": "code",
      "source": [
        "from statsmodels.tsa.stattools import adfuller #AdFuller Test for accepting or rejecting null hypothesis to check if data is stationary or not\n",
        "def test_adf(series, title=''):\n",
        "    dfout={}\n",
        "    dftest=sm.tsa.adfuller(series.dropna(), autolag='AIC', regression='ct') #series, AutoLag = AIC ( minimize the corresponding information criterion) , regression = constant and trend \n",
        "    for key,val in dftest[4].items(): #dftest returns   \n",
        "        dfout[f'critical value ({key})']=val #critical values 1%, 5%, 10% , distribution formula --> lag coeff/standard error(lag coeff)\n",
        "    if dftest[1]<=0.05: #pvalue barrier to accept/reject hypothesis \n",
        "        print(\"Strong evidence against Null Hypothesis\")\n",
        "        print(\"Reject Null Hypothesis - Data is Stationary\")\n",
        "        print(\"Data is Stationary\", title)\n",
        "    else:\n",
        "        print(\"Strong evidence for  Null Hypothesis\")\n",
        "        print(\"Accept Null Hypothesis - Data is not Stationary\")\n",
        "        print(\"Data is NOT Stationary for\", title)"
      ],
      "metadata": {
        "id": "QAaBPwmaSUTj"
      },
      "execution_count": 77,
      "outputs": []
    },
    {
      "cell_type": "code",
      "source": [
        "y_test=y['Next_week_Sale'][:train_size].dropna()\n",
        "test_adf(y_test, \" Weekly Sales\")"
      ],
      "metadata": {
        "colab": {
          "base_uri": "https://localhost:8080/"
        },
        "id": "U6w0AV53SYnS",
        "outputId": "7f1520aa-d995-4285-9651-6720037bb937"
      },
      "execution_count": 78,
      "outputs": [
        {
          "output_type": "stream",
          "name": "stdout",
          "text": [
            "Strong evidence against Null Hypothesis\n",
            "Reject Null Hypothesis - Data is Stationary\n",
            "Data is Stationary  Weekly Sales\n"
          ]
        }
      ]
    },
    {
      "cell_type": "code",
      "source": [
        "!pip install pmdarima"
      ],
      "metadata": {
        "colab": {
          "base_uri": "https://localhost:8080/"
        },
        "id": "Ej0NxUfySckr",
        "outputId": "9c3e7fd4-81b5-4909-e391-d8622eb8b924"
      },
      "execution_count": 79,
      "outputs": [
        {
          "output_type": "stream",
          "name": "stdout",
          "text": [
            "Requirement already satisfied: pmdarima in /usr/local/lib/python3.7/dist-packages (1.8.4)\n",
            "Requirement already satisfied: joblib>=0.11 in /usr/local/lib/python3.7/dist-packages (from pmdarima) (1.1.0)\n",
            "Requirement already satisfied: statsmodels!=0.12.0,>=0.11 in /usr/local/lib/python3.7/dist-packages (from pmdarima) (0.13.2)\n",
            "Requirement already satisfied: numpy>=1.19.3 in /usr/local/lib/python3.7/dist-packages (from pmdarima) (1.21.5)\n",
            "Requirement already satisfied: pandas>=0.19 in /usr/local/lib/python3.7/dist-packages (from pmdarima) (1.3.5)\n",
            "Requirement already satisfied: urllib3 in /usr/local/lib/python3.7/dist-packages (from pmdarima) (1.24.3)\n",
            "Requirement already satisfied: scikit-learn>=0.22 in /usr/local/lib/python3.7/dist-packages (from pmdarima) (1.0.2)\n",
            "Requirement already satisfied: scipy>=1.3.2 in /usr/local/lib/python3.7/dist-packages (from pmdarima) (1.4.1)\n",
            "Requirement already satisfied: Cython!=0.29.18,>=0.29 in /usr/local/lib/python3.7/dist-packages (from pmdarima) (0.29.27)\n",
            "Requirement already satisfied: setuptools!=50.0.0,>=38.6.0 in /usr/local/lib/python3.7/dist-packages (from pmdarima) (57.4.0)\n",
            "Requirement already satisfied: python-dateutil>=2.7.3 in /usr/local/lib/python3.7/dist-packages (from pandas>=0.19->pmdarima) (2.8.2)\n",
            "Requirement already satisfied: pytz>=2017.3 in /usr/local/lib/python3.7/dist-packages (from pandas>=0.19->pmdarima) (2018.9)\n",
            "Requirement already satisfied: six>=1.5 in /usr/local/lib/python3.7/dist-packages (from python-dateutil>=2.7.3->pandas>=0.19->pmdarima) (1.15.0)\n",
            "Requirement already satisfied: threadpoolctl>=2.0.0 in /usr/local/lib/python3.7/dist-packages (from scikit-learn>=0.22->pmdarima) (3.1.0)\n",
            "Requirement already satisfied: packaging>=21.3 in /usr/local/lib/python3.7/dist-packages (from statsmodels!=0.12.0,>=0.11->pmdarima) (21.3)\n",
            "Requirement already satisfied: patsy>=0.5.2 in /usr/local/lib/python3.7/dist-packages (from statsmodels!=0.12.0,>=0.11->pmdarima) (0.5.2)\n",
            "Requirement already satisfied: pyparsing!=3.0.5,>=2.0.2 in /usr/local/lib/python3.7/dist-packages (from packaging>=21.3->statsmodels!=0.12.0,>=0.11->pmdarima) (3.0.7)\n"
          ]
        }
      ]
    },
    {
      "cell_type": "code",
      "source": [
        "from pmdarima.arima import auto_arima #auto-arima finds optimal order for an various differencing tests \n",
        "step_wise=auto_arima(train_y, \n",
        " exogenous= train_X,\n",
        " start_p=1, start_q=1, #defining values of pdq to test for\n",
        " max_p=7, max_q=7, \n",
        " d=1, max_d=7,\n",
        " trace=True, \n",
        " error_action='ignore', \n",
        " suppress_warnings=True, \n",
        " stepwise=True)\n",
        "\n",
        "#finding the best values of p, d, q "
      ],
      "metadata": {
        "colab": {
          "base_uri": "https://localhost:8080/"
        },
        "id": "i2ky0Y6-SchT",
        "outputId": "dd5b2855-8380-4050-f5dc-27f6223ad5fc"
      },
      "execution_count": 80,
      "outputs": [
        {
          "output_type": "stream",
          "name": "stdout",
          "text": [
            "Performing stepwise search to minimize aic\n",
            " ARIMA(1,1,1)(0,0,0)[0] intercept   : AIC=2455.400, Time=0.07 sec\n",
            " ARIMA(0,1,0)(0,0,0)[0] intercept   : AIC=2451.374, Time=0.03 sec\n",
            " ARIMA(1,1,0)(0,0,0)[0] intercept   : AIC=2453.318, Time=0.08 sec\n",
            " ARIMA(0,1,1)(0,0,0)[0] intercept   : AIC=2453.342, Time=0.07 sec\n",
            " ARIMA(0,1,0)(0,0,0)[0]             : AIC=2769.879, Time=0.02 sec\n",
            "\n",
            "Best model:  ARIMA(0,1,0)(0,0,0)[0] intercept\n",
            "Total fit time: 0.275 seconds\n"
          ]
        }
      ]
    },
    {
      "cell_type": "code",
      "source": [
        "step_wise.summary() #breif statistics "
      ],
      "metadata": {
        "colab": {
          "base_uri": "https://localhost:8080/",
          "height": 517
        },
        "id": "sQIAsu0FScey",
        "outputId": "337764f9-f3ca-4dfa-d2f9-22760cbe8bc0"
      },
      "execution_count": 81,
      "outputs": [
        {
          "output_type": "stream",
          "name": "stderr",
          "text": [
            "/usr/local/lib/python3.7/dist-packages/statsmodels/base/model.py:1286: RuntimeWarning: invalid value encountered in sqrt\n",
            "  \n"
          ]
        },
        {
          "output_type": "execute_result",
          "data": {
            "text/html": [
              "<table class=\"simpletable\">\n",
              "<caption>Statespace Model Results</caption>\n",
              "<tr>\n",
              "  <th>Dep. Variable:</th>           <td>y</td>        <th>  No. Observations:  </th>    <td>92</td>    \n",
              "</tr>\n",
              "<tr>\n",
              "  <th>Model:</th>           <td>SARIMAX(0, 1, 0)</td> <th>  Log Likelihood     </th> <td>-1220.687</td>\n",
              "</tr>\n",
              "<tr>\n",
              "  <th>Date:</th>            <td>Mon, 21 Feb 2022</td> <th>  AIC                </th> <td>2451.374</td> \n",
              "</tr>\n",
              "<tr>\n",
              "  <th>Time:</th>                <td>21:30:07</td>     <th>  BIC                </th> <td>2463.928</td> \n",
              "</tr>\n",
              "<tr>\n",
              "  <th>Sample:</th>             <td>02-05-2010</td>    <th>  HQIC               </th> <td>2456.438</td> \n",
              "</tr>\n",
              "<tr>\n",
              "  <th></th>                   <td>- 11-04-2011</td>   <th>                     </th>     <td> </td>    \n",
              "</tr>\n",
              "<tr>\n",
              "  <th>Covariance Type:</th>        <td>opg</td>       <th>                     </th>     <td> </td>    \n",
              "</tr>\n",
              "</table>\n",
              "<table class=\"simpletable\">\n",
              "<tr>\n",
              "        <td></td>          <th>coef</th>     <th>std err</th>      <th>z</th>      <th>P>|z|</th>  <th>[0.025</th>    <th>0.975]</th>  \n",
              "</tr>\n",
              "<tr>\n",
              "  <th>intercept</th>    <td>-2238.4177</td> <td>  1.9e+04</td> <td>   -0.118</td> <td> 0.906</td> <td>-3.95e+04</td> <td>  3.5e+04</td>\n",
              "</tr>\n",
              "<tr>\n",
              "  <th>Store</th>        <td>         0</td> <td>      nan</td> <td>      nan</td> <td>   nan</td> <td>      nan</td> <td>      nan</td>\n",
              "</tr>\n",
              "<tr>\n",
              "  <th>CPI</th>          <td> 2.616e+04</td> <td> 1.23e+05</td> <td>    0.212</td> <td> 0.832</td> <td>-2.16e+05</td> <td> 2.68e+05</td>\n",
              "</tr>\n",
              "<tr>\n",
              "  <th>Weekly_Sales</th> <td>   -0.3679</td> <td>    0.054</td> <td>   -6.872</td> <td> 0.000</td> <td>   -0.473</td> <td>   -0.263</td>\n",
              "</tr>\n",
              "<tr>\n",
              "  <th>sigma2</th>       <td> 2.624e+10</td> <td>    1.027</td> <td> 2.55e+10</td> <td> 0.000</td> <td> 2.62e+10</td> <td> 2.62e+10</td>\n",
              "</tr>\n",
              "</table>\n",
              "<table class=\"simpletable\">\n",
              "<tr>\n",
              "  <th>Ljung-Box (Q):</th>          <td>43.04</td> <th>  Jarque-Bera (JB):  </th> <td>256.87</td>\n",
              "</tr>\n",
              "<tr>\n",
              "  <th>Prob(Q):</th>                <td>0.34</td>  <th>  Prob(JB):          </th>  <td>0.00</td> \n",
              "</tr>\n",
              "<tr>\n",
              "  <th>Heteroskedasticity (H):</th> <td>1.19</td>  <th>  Skew:              </th>  <td>-0.61</td>\n",
              "</tr>\n",
              "<tr>\n",
              "  <th>Prob(H) (two-sided):</th>    <td>0.64</td>  <th>  Kurtosis:          </th>  <td>11.14</td>\n",
              "</tr>\n",
              "</table><br/><br/>Warnings:<br/>[1] Covariance matrix calculated using the outer product of gradients (complex-step).<br/>[2] Covariance matrix is singular or near-singular, with condition number 4.36e+28. Standard errors may be unstable."
            ],
            "text/plain": [
              "<class 'statsmodels.iolib.summary.Summary'>\n",
              "\"\"\"\n",
              "                           Statespace Model Results                           \n",
              "==============================================================================\n",
              "Dep. Variable:                      y   No. Observations:                   92\n",
              "Model:               SARIMAX(0, 1, 0)   Log Likelihood               -1220.687\n",
              "Date:                Mon, 21 Feb 2022   AIC                           2451.374\n",
              "Time:                        21:30:07   BIC                           2463.928\n",
              "Sample:                    02-05-2010   HQIC                          2456.438\n",
              "                         - 11-04-2011                                         \n",
              "Covariance Type:                  opg                                         \n",
              "================================================================================\n",
              "                   coef    std err          z      P>|z|      [0.025      0.975]\n",
              "--------------------------------------------------------------------------------\n",
              "intercept    -2238.4177    1.9e+04     -0.118      0.906   -3.95e+04     3.5e+04\n",
              "Store                 0        nan        nan        nan         nan         nan\n",
              "CPI           2.616e+04   1.23e+05      0.212      0.832   -2.16e+05    2.68e+05\n",
              "Weekly_Sales    -0.3679      0.054     -6.872      0.000      -0.473      -0.263\n",
              "sigma2        2.624e+10      1.027   2.55e+10      0.000    2.62e+10    2.62e+10\n",
              "===================================================================================\n",
              "Ljung-Box (Q):                       43.04   Jarque-Bera (JB):               256.87\n",
              "Prob(Q):                              0.34   Prob(JB):                         0.00\n",
              "Heteroskedasticity (H):               1.19   Skew:                            -0.61\n",
              "Prob(H) (two-sided):                  0.64   Kurtosis:                        11.14\n",
              "===================================================================================\n",
              "\n",
              "Warnings:\n",
              "[1] Covariance matrix calculated using the outer product of gradients (complex-step).\n",
              "[2] Covariance matrix is singular or near-singular, with condition number 4.36e+28. Standard errors may be unstable.\n",
              "\"\"\""
            ]
          },
          "metadata": {},
          "execution_count": 81
        }
      ]
    },
    {
      "cell_type": "code",
      "source": [
        "from statsmodels.tsa.statespace.sarimax import SARIMAX\n",
        "#seasonal_order = (p,d,q,seasonality) here we considered the seasonality to be 52W\n",
        "model= SARIMAX(train_y, seasonal_order=(0,1,0,52),\n",
        " exog=train_X,\n",
        " order=(0,1,0), #p,d,q\n",
        " enforce_invertibility=False, enforce_stationarity=False)\n",
        "\n",
        "results= model.fit()\n",
        "results.summary()"
      ],
      "metadata": {
        "colab": {
          "base_uri": "https://localhost:8080/",
          "height": 566
        },
        "id": "x1PN5eaSScZb",
        "outputId": "cec5d001-cca3-48f6-8917-7cec655ce563"
      },
      "execution_count": 82,
      "outputs": [
        {
          "output_type": "stream",
          "name": "stderr",
          "text": [
            "/usr/local/lib/python3.7/dist-packages/statsmodels/tsa/base/tsa_model.py:165: ValueWarning: No frequency information was provided, so inferred frequency W-FRI will be used.\n",
            "  periods=len(index) + 1,\n",
            "/usr/local/lib/python3.7/dist-packages/statsmodels/base/model.py:1294: RuntimeWarning: invalid value encountered in true_divide\n",
            "  iterations : int\n",
            "/usr/local/lib/python3.7/dist-packages/statsmodels/tsa/statespace/mlemodel.py:2060: RuntimeWarning: invalid value encountered in true_divide\n",
            "  cases are the strings 'start' and 'end', which refer to setting the\n"
          ]
        },
        {
          "output_type": "execute_result",
          "data": {
            "text/html": [
              "<table class=\"simpletable\">\n",
              "<caption>Statespace Model Results</caption>\n",
              "<tr>\n",
              "  <th>Dep. Variable:</th>           <td>Next_week_Sale</td>         <th>  No. Observations:  </th>    <td>92</td>   \n",
              "</tr>\n",
              "<tr>\n",
              "  <th>Model:</th>           <td>SARIMAX(0, 1, 0)x(0, 1, 0, 52)</td> <th>  Log Likelihood     </th> <td>-525.259</td>\n",
              "</tr>\n",
              "<tr>\n",
              "  <th>Date:</th>                   <td>Mon, 21 Feb 2022</td>        <th>  AIC                </th> <td>1058.519</td>\n",
              "</tr>\n",
              "<tr>\n",
              "  <th>Time:</th>                       <td>21:30:07</td>            <th>  BIC                </th> <td>1065.069</td>\n",
              "</tr>\n",
              "<tr>\n",
              "  <th>Sample:</th>                    <td>02-05-2010</td>           <th>  HQIC               </th> <td>1060.849</td>\n",
              "</tr>\n",
              "<tr>\n",
              "  <th></th>                          <td>- 11-04-2011</td>          <th>                     </th>     <td> </td>   \n",
              "</tr>\n",
              "<tr>\n",
              "  <th>Covariance Type:</th>               <td>opg</td>              <th>                     </th>     <td> </td>   \n",
              "</tr>\n",
              "</table>\n",
              "<table class=\"simpletable\">\n",
              "<tr>\n",
              "        <td></td>          <th>coef</th>     <th>std err</th>      <th>z</th>      <th>P>|z|</th>  <th>[0.025</th>    <th>0.975]</th>  \n",
              "</tr>\n",
              "<tr>\n",
              "  <th>Store</th>        <td>         0</td> <td>       -0</td> <td>      nan</td> <td>   nan</td> <td>        0</td> <td>        0</td>\n",
              "</tr>\n",
              "<tr>\n",
              "  <th>CPI</th>          <td> 2.546e+04</td> <td> 1.22e+06</td> <td>    0.021</td> <td> 0.983</td> <td>-2.36e+06</td> <td> 2.42e+06</td>\n",
              "</tr>\n",
              "<tr>\n",
              "  <th>Weekly_Sales</th> <td>   -0.5718</td> <td>    5.331</td> <td>   -0.107</td> <td> 0.915</td> <td>  -11.021</td> <td>    9.878</td>\n",
              "</tr>\n",
              "<tr>\n",
              "  <th>sigma2</th>       <td> 1.574e+11</td> <td>    0.354</td> <td> 4.45e+11</td> <td> 0.000</td> <td> 1.57e+11</td> <td> 1.57e+11</td>\n",
              "</tr>\n",
              "</table>\n",
              "<table class=\"simpletable\">\n",
              "<tr>\n",
              "  <th>Ljung-Box (Q):</th>           <td>nan</td> <th>  Jarque-Bera (JB):  </th> <td>25.69</td>\n",
              "</tr>\n",
              "<tr>\n",
              "  <th>Prob(Q):</th>                 <td>nan</td> <th>  Prob(JB):          </th> <td>0.00</td> \n",
              "</tr>\n",
              "<tr>\n",
              "  <th>Heteroskedasticity (H):</th> <td>0.42</td> <th>  Skew:              </th> <td>-1.17</td>\n",
              "</tr>\n",
              "<tr>\n",
              "  <th>Prob(H) (two-sided):</th>    <td>0.13</td> <th>  Kurtosis:          </th> <td>6.28</td> \n",
              "</tr>\n",
              "</table><br/><br/>Warnings:<br/>[1] Covariance matrix calculated using the outer product of gradients (complex-step).<br/>[2] Covariance matrix is singular or near-singular, with condition number    inf. Standard errors may be unstable."
            ],
            "text/plain": [
              "<class 'statsmodels.iolib.summary.Summary'>\n",
              "\"\"\"\n",
              "                                 Statespace Model Results                                 \n",
              "==========================================================================================\n",
              "Dep. Variable:                     Next_week_Sale   No. Observations:                   92\n",
              "Model:             SARIMAX(0, 1, 0)x(0, 1, 0, 52)   Log Likelihood                -525.259\n",
              "Date:                            Mon, 21 Feb 2022   AIC                           1058.519\n",
              "Time:                                    21:30:07   BIC                           1065.069\n",
              "Sample:                                02-05-2010   HQIC                          1060.849\n",
              "                                     - 11-04-2011                                         \n",
              "Covariance Type:                              opg                                         \n",
              "================================================================================\n",
              "                   coef    std err          z      P>|z|      [0.025      0.975]\n",
              "--------------------------------------------------------------------------------\n",
              "Store                 0         -0        nan        nan           0           0\n",
              "CPI           2.546e+04   1.22e+06      0.021      0.983   -2.36e+06    2.42e+06\n",
              "Weekly_Sales    -0.5718      5.331     -0.107      0.915     -11.021       9.878\n",
              "sigma2        1.574e+11      0.354   4.45e+11      0.000    1.57e+11    1.57e+11\n",
              "===================================================================================\n",
              "Ljung-Box (Q):                         nan   Jarque-Bera (JB):                25.69\n",
              "Prob(Q):                               nan   Prob(JB):                         0.00\n",
              "Heteroskedasticity (H):               0.42   Skew:                            -1.17\n",
              "Prob(H) (two-sided):                  0.13   Kurtosis:                         6.28\n",
              "===================================================================================\n",
              "\n",
              "Warnings:\n",
              "[1] Covariance matrix calculated using the outer product of gradients (complex-step).\n",
              "[2] Covariance matrix is singular or near-singular, with condition number    inf. Standard errors may be unstable.\n",
              "\"\"\""
            ]
          },
          "metadata": {},
          "execution_count": 82
        }
      ]
    },
    {
      "cell_type": "code",
      "source": [
        "%matplotlib inline\n",
        "# steps = -1\n",
        "predictions= results.predict(start =train_size, end=train_size+test_size+(steps)-1,exog=test_X)\n",
        "act= pd.DataFrame(y.iloc[train_size:, :])\n",
        "predictions=pd.DataFrame(predictions)\n",
        "predictions.reset_index(drop=True, inplace=True) # not inserting index \n",
        "predictions.index=test_X.index #setting index\n",
        "predictions['Actual_sales'] = act['Next_week_Sale'] #to compare the test and train values\n",
        "predictions.rename(columns={0:'Pred_sales'}, inplace=True)\n",
        "Final_predictions = pd.concat([predictions,act],axis=1)\n",
        "# Final_predictions['Pred_sales'].plot(legend=True, color='red', figsize=(20,8))\n",
        "# dataset_for_prediction2['Actual_sales'].plot(legend=True, color='blue', figsize=(20,8))\n",
        "fig=Final_predictions['Pred_sales'].plot(legend=True, color='red', figsize=(10,4))\n",
        "fig=dataset_for_prediction1['Actual_sales'].plot(legend=True, color='blue')\n",
        "# fig.set_figheight(4)\n",
        "plt.show()\n"
      ],
      "metadata": {
        "colab": {
          "base_uri": "https://localhost:8080/",
          "height": 302
        },
        "id": "8MqLyaSJScKm",
        "outputId": "00421ffa-1e33-4890-d49d-bcbaa29b3717"
      },
      "execution_count": 83,
      "outputs": [
        {
          "output_type": "display_data",
          "data": {
            "image/png": "[encoded data removed]",
            "text/plain": [
              "<Figure size 720x288 with 1 Axes>"
            ]
          },
          "metadata": {
            "needs_background": "light"
          }
        }
      ]
    },
    {
      "cell_type": "code",
      "source": [
        "from statsmodels.tools.eval_measures import rmse\n",
        "error=rmse(predictions['Pred_sales'], predictions['Actual_sales'])\n",
        "error #Root-mean-square deviation for finding the error."
      ],
      "metadata": {
        "colab": {
          "base_uri": "https://localhost:8080/"
        },
        "id": "42a2jgX8ScAD",
        "outputId": "12b66ae7-33e7-464c-c7e7-ed41afefebb7"
      },
      "execution_count": 84,
      "outputs": [
        {
          "output_type": "execute_result",
          "data": {
            "text/plain": [
              "125163.36778327901"
            ]
          },
          "metadata": {},
          "execution_count": 84
        }
      ]
    }
  ]
}